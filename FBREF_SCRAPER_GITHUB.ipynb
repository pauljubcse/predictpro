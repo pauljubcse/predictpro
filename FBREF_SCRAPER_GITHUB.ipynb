{
  "cells": [
    {
      "cell_type": "code",
      "execution_count": 1,
      "metadata": {
        "id": "buSQ88DeyAUh"
      },
      "outputs": [],
      "source": [
        "import requests\n",
        "import pandas as pd\n",
        "from bs4 import BeautifulSoup\n",
        "import seaborn as sb\n",
        "import matplotlib.pyplot as plt\n",
        "import matplotlib as mpl\n",
        "import warnings\n",
        "import numpy as np\n",
        "from math import pi\n",
        "from googlesearch import search\n",
        "import time"
      ]
    },
    {
      "cell_type": "code",
      "execution_count": 2,
      "metadata": {
        "id": "n2fSLNmU9UCU"
      },
      "outputs": [],
      "source": [
        "def linkGen(player):\n",
        "    query = player+\" FBref\"\n",
        "\n",
        "    for j in search(query, num_results=10, sleep_interval=2):\n",
        "        return j"
      ]
    },
    {
      "cell_type": "code",
      "execution_count": 38,
      "metadata": {
        "colab": {
          "base_uri": "https://localhost:8080/",
          "height": 36
        },
        "id": "AkysTDGW8D9h",
        "outputId": "da1693cb-dec3-4652-deb1-322b35d76c79"
      },
      "outputs": [
        {
          "data": {
            "text/plain": [
              "'https://fbref.com/en/players/21a66f6a/Harry-Kane'"
            ]
          },
          "execution_count": 38,
          "metadata": {},
          "output_type": "execute_result"
        }
      ],
      "source": [
        "linkGen(\"Harry Kane\")"
      ]
    },
    {
      "cell_type": "code",
      "execution_count": 39,
      "metadata": {},
      "outputs": [],
      "source": [
        "data_dict={\n",
        "    'Name':[],\n",
        "    'Height':[],\n",
        "    'Weight':[],\n",
        "    'Club':[],\n",
        "    'Nation':[],\n",
        "    'Non-Penalty Goals':[],\n",
        "    'npxG: Non-Penalty xG':[],\n",
        "    'Shots Total':[],\n",
        "    'Assists':[],\n",
        "    'xAG: Exp. Assisted Goals':[],\n",
        "    'npxG + xAG':[],\n",
        "    'Shot-Creating Actions':[],\n",
        "    'Passes Attempted':[],\n",
        "    'Pass Completion %':[],\n",
        "    'Progressive Passes':[],\n",
        "    'Progressive Carries':[],\n",
        "    'Successful Take-Ons':[],\n",
        "    'Touches (Att Pen)':[],\n",
        "    'Progressive Passes Rec':[],\n",
        "    'Tackles':[],\n",
        "    'Interceptions':[],\n",
        "    'Blocks':[],\n",
        "    'Clearances':[],\n",
        "    'Aerials Won':[]\n",
        "}"
      ]
    },
    {
      "cell_type": "code",
      "execution_count": 53,
      "metadata": {
        "id": "BWQnktcqIVIs"
      },
      "outputs": [],
      "source": [
        "def getPlayerData(x):\n",
        "    warnings.filterwarnings(\"ignore\")\n",
        "    try:\n",
        "        url = x\n",
        "        headers = {'User-Agent': 'Mozilla/5.0 (Windows NT 10.0; Win64; x64) AppleWebKit/537.36 (KHTML, like Gecko) Chrome/58.0.3029.110 Safari/537.3'}\n",
        "        \n",
        "        # Send a request to the provided URL with headers\n",
        "        page = requests.get(url, headers=headers)\n",
        "        soup = BeautifulSoup(page.content, 'html.parser')\n",
        "        # print(soup)\n",
        "        div=soup.find(\"div\", {\"class\" : \"filter switcher\"})\n",
        "        pos=div.find(\"a\").contents[0][4:]\n",
        "\n",
        "        data = [element.text for element in soup.find_all(\"span\")]\n",
        "        # print(data)\n",
        "        name = data[7]\n",
        "        height = data[8]\n",
        "        weight = data[9]\n",
        "        country = soup.find('strong', text='National Team:').find_next_sibling('a').text.strip()\n",
        "        \n",
        "        # Extract club\n",
        "        club = soup.find('strong', text='Club:').find_next_sibling('a').text.strip()\n",
        "\n",
        "        metric_names = []\n",
        "        metric_values = []\n",
        "        metric_percentiles = []\n",
        "        remove_content = [\"'\", \"[\", \"]\", \",\"]\n",
        "        for row in soup.findAll('table')[0].tbody.findAll('tr'):\n",
        "            first_column = row.findAll('th')[0].contents\n",
        "            if first_column==[]:\n",
        "                continue\n",
        "            metric_names.append(first_column[0])\n",
        "        for row in soup.findAll('table')[0].tbody.findAll('tr'):\n",
        "            first_column = row.findAll('td')[0].contents\n",
        "            if first_column==[]:\n",
        "                continue\n",
        "            metric_values.append(first_column[0])\n",
        "        for row in soup.findAll('table')[0].tbody.findAll('tr'):\n",
        "            first_column = row.findAll('td')[1].contents\n",
        "            if first_column==[]:\n",
        "                continue\n",
        "            metric_percentiles.append(int(first_column[0].contents[0]))\n",
        "        for i in range(len(metric_values)):\n",
        "            text=metric_values[i]\n",
        "            if '%' in text:\n",
        "                text=text[:-1]\n",
        "            metric_values[i]=float(text)\n",
        "        \n",
        "        data_dict['Name'].append(name)\n",
        "        data_dict['Height'].append(height)\n",
        "        data_dict['Weight'].append(weight)\n",
        "        data_dict['Club'].append(club)\n",
        "        data_dict['Nation'].append(country)\n",
        "        try:\n",
        "            for i in range(len(metric_names)):\n",
        "                data_dict[metric_names[i]].append(metric_percentiles[i])\n",
        "        except Exception as e:\n",
        "            print(f\"An error occurred: {e}\")\n",
        "\n",
        "\n",
        "\n",
        "        return [metric_names, metric_values, metric_percentiles, name, pos, height, weight, club, country]\n",
        "    except Exception as e:\n",
        "        print(url, e)\n",
        "        return []"
      ]
    },
    {
      "cell_type": "code",
      "execution_count": 51,
      "metadata": {},
      "outputs": [
        {
          "data": {
            "text/plain": [
              "[['Non-Penalty Goals',\n",
              "  'npxG: Non-Penalty xG',\n",
              "  'Shots Total',\n",
              "  'Assists',\n",
              "  'xAG: Exp. Assisted Goals',\n",
              "  'npxG + xAG',\n",
              "  'Shot-Creating Actions',\n",
              "  'Passes Attempted',\n",
              "  'Pass Completion %',\n",
              "  'Progressive Passes',\n",
              "  'Progressive Carries',\n",
              "  'Successful Take-Ons',\n",
              "  'Touches (Att Pen)',\n",
              "  'Progressive Passes Rec',\n",
              "  'Tackles',\n",
              "  'Interceptions',\n",
              "  'Blocks',\n",
              "  'Clearances',\n",
              "  'Aerials Won'],\n",
              " [0.8,\n",
              "  0.69,\n",
              "  3.89,\n",
              "  0.28,\n",
              "  0.18,\n",
              "  0.87,\n",
              "  2.69,\n",
              "  20.74,\n",
              "  71.1,\n",
              "  3.46,\n",
              "  1.08,\n",
              "  0.66,\n",
              "  5.09,\n",
              "  4.55,\n",
              "  0.47,\n",
              "  0.14,\n",
              "  0.54,\n",
              "  0.45,\n",
              "  1.25],\n",
              " [98, 97, 92, 89, 79, 96, 65, 45, 53, 89, 32, 44, 57, 18, 31, 34, 35, 24, 36],\n",
              " 'Harry Kane',\n",
              " 'Forwards',\n",
              " '188cm',\n",
              " '73kg',\n",
              " 'Bayern Munich',\n",
              " 'England']"
            ]
          },
          "execution_count": 51,
          "metadata": {},
          "output_type": "execute_result"
        }
      ],
      "source": [
        "getPlayerData(linkGen(\"Harry Kane\"))"
      ]
    },
    {
      "cell_type": "code",
      "execution_count": 83,
      "metadata": {},
      "outputs": [
        {
          "data": {
            "text/plain": [
              "{'Name': ['Harry Kane'],\n",
              " 'Height': ['188cm'],\n",
              " 'Weight': ['73kg'],\n",
              " 'Club': ['Bayern Munich'],\n",
              " 'Nation': ['England'],\n",
              " 'Non-Penalty Goals': [98],\n",
              " 'npxG: Non-Penalty xG': [97],\n",
              " 'Shots Total': [92],\n",
              " 'Assists': [89],\n",
              " 'xAG: Exp. Assisted Goals': [79],\n",
              " 'npxG + xAG': [96],\n",
              " 'Shot-Creating Actions': [65],\n",
              " 'Passes Attempted': [45],\n",
              " 'Pass Completion %': [53],\n",
              " 'Progressive Passes': [89],\n",
              " 'Progressive Carries': [32],\n",
              " 'Successful Take-Ons': [44],\n",
              " 'Touches (Att Pen)': [57],\n",
              " 'Progressive Passes Rec': [18],\n",
              " 'Tackles': [31],\n",
              " 'Interceptions': [34],\n",
              " 'Blocks': [35],\n",
              " 'Clearances': [24],\n",
              " 'Aerials Won': [36]}"
            ]
          },
          "execution_count": 83,
          "metadata": {},
          "output_type": "execute_result"
        }
      ],
      "source": [
        "data_dict"
      ]
    },
    {
      "cell_type": "code",
      "execution_count": 7,
      "metadata": {
        "id": "gl9c9ZWPIy3H"
      },
      "outputs": [],
      "source": [
        "from tqdm import tqdm"
      ]
    },
    {
      "cell_type": "code",
      "execution_count": 7,
      "metadata": {
        "id": "NETIQVicH0ME"
      },
      "outputs": [],
      "source": [
        "#DataFrame of all players' Names from top 5 leagues\n",
        "def getPlayers():\n",
        "    warnings.filterwarnings(\"ignore\")\n",
        "    url = \"https://fbref.com/en/comps/Big5/stats/players/Big-5-European-Leagues-Stats\"\n",
        "    page =requests.get(url)\n",
        "    soup = BeautifulSoup(page.content, 'html.parser')\n",
        "    Name_Link = []\n",
        "    for row in soup.findAll('table')[0].tbody.findAll('tr'):\n",
        "        val=[]\n",
        "        try:\n",
        "            temp=row.findAll('td')[0].contents\n",
        "            val.append(temp[0].contents[0])\n",
        "            val.append(temp[0].get(\"href\"))\n",
        "            Name_Link.append(val)\n",
        "\n",
        "        except:\n",
        "            continue\n",
        "    return Name_Link"
      ]
    },
    {
      "cell_type": "code",
      "execution_count": 8,
      "metadata": {
        "id": "r9fOXgkTRNNp"
      },
      "outputs": [],
      "source": [
        "class FBREFDataSet():\n",
        "\n",
        "    def __init__(self):\n",
        "        self.Name_Link=pd.read_csv(\"/content/drive/MyDrive/FBREF/NAME_DB.csv\")\n",
        "        self.Name_Link=[[self.Name_Link.iloc[i,1], self.Name_Link.iloc[i,2]] for i in range(self.Name_Link.shape[0])]\n",
        "        self.Midfielders= pd.DataFrame({'Name': pd.Series(dtype='str'),\n",
        "                   'Attribute Vector': pd.Series(dtype='object'),\n",
        "                         'Percentiles': pd.Series(dtype='object')})\n",
        "        self.Forwards= pd.DataFrame({'Name': pd.Series(dtype='str'),\n",
        "                   'Attribute Vector': pd.Series(dtype='object'),\n",
        "                         'Percentiles': pd.Series(dtype='object')})\n",
        "        self.AtMid_Wingers= pd.DataFrame({'Name': pd.Series(dtype='str'),\n",
        "                   'Attribute Vector': pd.Series(dtype='object'),\n",
        "                         'Percentiles': pd.Series(dtype='object')})\n",
        "        self.FullBacks= pd.DataFrame({'Name': pd.Series(dtype='str'),\n",
        "                   'Attribute Vector': pd.Series(dtype='object'),\n",
        "                         'Percentiles': pd.Series(dtype='object')})\n",
        "        self.CenterBacks= pd.DataFrame({'Name': pd.Series(dtype='str'),\n",
        "                   'Attribute Vector': pd.Series(dtype='object'),\n",
        "                         'Percentiles': pd.Series(dtype='object')})\n",
        "        self.GoalKeepers= pd.DataFrame({'Name': pd.Series(dtype='str'),\n",
        "                   'Attribute Vector': pd.Series(dtype='object'),\n",
        "                         'Percentiles': pd.Series(dtype='object')})\n",
        "\n",
        "\n",
        "    def load_online(self):\n",
        "        index=[0 for i in range(6)]\n",
        "        Positions={'Forwards': self.Forwards,\n",
        "                   'Att Mid / Wingers':self.AtMid_Wingers,\n",
        "                   'Midfielders': self.Midfielders,\n",
        "                   'Center Backs':self.CenterBacks,\n",
        "                   'Fullbacks': self.FullBacks,\n",
        "                   'Goalkeepers':self.GoalKeepers\n",
        "                   }\n",
        "        n = len(self.Name_Link)\n",
        "        for i in tqdm(range(n)):\n",
        "            name=self.Name_Link[i][0]\n",
        "            data=getPlayerData('https://fbref.com'+self.Name_Link[i][1])\n",
        "            time.sleep(3)\n",
        "            print(data)\n",
        "            if data!=[]:\n",
        "                if data[-1]=='Forwards':\n",
        "                    self.Forwards.loc[index[0]]=[name,data[1], data[2]]\n",
        "                    index[0]=index[0]+1\n",
        "\n",
        "                elif data[-1]=='Att Mid / Wingers':\n",
        "                    self.Forwards.loc[index[1]]=[name,data[1], data[2]]\n",
        "                    index[1]=index[1]+1\n",
        "\n",
        "                elif data[-1]=='Midfielders':\n",
        "                    self.Forwards.loc[index[2]]=[name,data[1], data[2]]\n",
        "                    index[2]=index[2]+1\n",
        "\n",
        "                elif data[-1]=='Center Backs':\n",
        "                    self.Forwards.loc[index[3]]=[name,data[1], data[2]]\n",
        "                    index[3]=index[3]+1\n",
        "\n",
        "                elif data[-1]=='Fullbacks':\n",
        "                    self.Forwards.loc[index[4]]=[name,data[1], data[2]]\n",
        "                    index[4]=index[4]+1\n",
        "\n",
        "                elif data[-1]=='Goalkeepers':\n",
        "                    self.Forwards.loc[index[5]]=[name,data[1], data[2]]\n",
        "                    index[5]=index[5]+1\n",
        "            print(index)\n",
        "\n",
        "    def load_offline(self):\n",
        "        self.Midfielders=pd.read_csv('/content/drive/MyDrive/FBREF/Midfielders.csv')\n",
        "        self.Forwards=pd.read_csv('/content/drive/MyDrive/FBREF/Forwards.csv')\n",
        "        self.AtMid_Wingers=pd.read_csv('/content/drive/MyDrive/FBREF/AtMid_Wingers.csv')\n",
        "        self.FullBacks=pd.read_csv('/content/drive/MyDrive/FBREF/FullBacks.csv')\n",
        "        self.CenterBacks=pd.read_csv('/content/drive/MyDrive/FBREF/CenterBacks.csv')\n",
        "        self.GoalKeepers=pd.read_csv('/content/drive/MyDrive/FBREF/GoalKeepers.csv')\n",
        "\n",
        "    def save(self):\n",
        "        self.Midfielders.to_csv('/content/drive/MyDrive/FBREF/Midfielders.csv')\n",
        "        self.Forwards.to_csv('/content/drive/MyDrive/FBREF/Forwards.csv')\n",
        "        self.AtMid_Wingers.to_csv('/content/drive/MyDrive/FBREF/AtMid_Wingers.csv')\n",
        "        self.FullBacks.to_csv('/content/drive/MyDrive/FBREF/FullBacks.csv')\n",
        "        self.CenterBacks.to_csv('/content/drive/MyDrive/FBREF/CenterBacks.csv')\n",
        "        self.GoalKeepers.to_csv('/content/drive/MyDrive/FBREF/GoalKeepers.csv')\n",
        "\n",
        "    def createDataBase(self, position, temp):\n",
        "\n",
        "        index=0\n",
        "        i=0\n",
        "        n = len(self.Name_Link)\n",
        "        for i in tqdm(range(n)):\n",
        "            name=self.Name_Link[i][0]\n",
        "            data=getPlayerData('https://fbref.com'+self.Name_Link[i][1])\n",
        "            time.sleep(3)\n",
        "            print(data)\n",
        "            if data!=[] and data[-1]==position:\n",
        "                temp.loc[index]=[name,data[1], data[2]]\n",
        "                index=index+1\n",
        "        print(temp)"
      ]
    },
    {
      "cell_type": "code",
      "execution_count": null,
      "metadata": {
        "id": "hEuPJ_4hbWIV"
      },
      "outputs": [],
      "source": [
        "DS = FBREFDataSet()"
      ]
    },
    {
      "cell_type": "code",
      "execution_count": 8,
      "metadata": {},
      "outputs": [],
      "source": [
        "def linkGenTf(player):\n",
        "    query = player+\" transfermarkt\"\n",
        "\n",
        "    for j in search(query, num_results=10, sleep_interval=2):\n",
        "        return j"
      ]
    },
    {
      "cell_type": "code",
      "execution_count": 9,
      "metadata": {},
      "outputs": [
        {
          "data": {
            "text/plain": [
              "'https://www.transfermarkt.co.in/harry-kane/profil/spieler/132098'"
            ]
          },
          "execution_count": 9,
          "metadata": {},
          "output_type": "execute_result"
        }
      ],
      "source": [
        "linkGenTf('Harry kane')"
      ]
    },
    {
      "cell_type": "code",
      "execution_count": 10,
      "metadata": {},
      "outputs": [],
      "source": [
        "import re"
      ]
    },
    {
      "cell_type": "code",
      "execution_count": 11,
      "metadata": {},
      "outputs": [],
      "source": [
        "def get_current_value(url):\n",
        "    # Send a request to the provided URL\n",
        "    headers = {\n",
        "        'User-Agent': 'Mozilla/5.0 (Windows NT 10.0; Win64; x64) AppleWebKit/537.36 (KHTML, like Gecko) Chrome/58.0.3029.110 Safari/537.3'}\n",
        "    \n",
        "    # Send a request to the provided URL with headers\n",
        "    response = requests.get(url, headers=headers)\n",
        "    # Check if the request was successful\n",
        "    if response.status_code == 200:\n",
        "        # Parse the HTML content\n",
        "        soup = BeautifulSoup(response.text, 'html.parser')\n",
        "        \n",
        "        # Find the meta tag with the name 'description'\n",
        "        meta_tag = soup.find('meta', attrs={'name': 'description'})\n",
        "        \n",
        "        if meta_tag:\n",
        "            # Extract the content attribute\n",
        "            content = meta_tag.get('content', '')\n",
        "            \n",
        "            # Use regex to find the value in the format ₹ followed by a number and 'Cr'\n",
        "            # market_value = re.search(r'₹[0-9]+(?:\\.[0-9]+)?\\s*Cr', content)\n",
        "            market_value = re.search(r'₹([0-9]+(?:\\.[0-9]+)?)\\s*Cr', content)\n",
        "            if market_value:\n",
        "                # return market_value.group()\n",
        "                # Extract the numeric part using group(1)\n",
        "                numeric_value = market_value.group(1)\n",
        "                \n",
        "                try:\n",
        "                    return int(numeric_value)*108041.60/1000000\n",
        "                    #Value in M Euros\n",
        "                except:\n",
        "                    return \"Not Int\"\n",
        "            else:\n",
        "                return \"Market value not found in meta tag\"\n",
        "        else:\n",
        "            return \"Meta tag not found\"\n",
        "    else:\n",
        "        return f\"Failed to retrieve page, status code: {response.status_code}\""
      ]
    },
    {
      "cell_type": "code",
      "execution_count": 12,
      "metadata": {},
      "outputs": [
        {
          "data": {
            "text/plain": [
              "38.894976"
            ]
          },
          "execution_count": 12,
          "metadata": {},
          "output_type": "execute_result"
        }
      ],
      "source": [
        "get_current_value(linkGenTf('Hakan Çalhanoğlu')) "
      ]
    },
    {
      "cell_type": "code",
      "execution_count": 13,
      "metadata": {},
      "outputs": [],
      "source": [
        "name_df=pd.read_excel('NameList.xlsx')"
      ]
    },
    {
      "cell_type": "code",
      "execution_count": 14,
      "metadata": {},
      "outputs": [],
      "source": [
        "names=name_df['Name'].values.tolist()"
      ]
    },
    {
      "cell_type": "code",
      "execution_count": 15,
      "metadata": {},
      "outputs": [
        {
          "data": {
            "text/plain": [
              "['Manuel Akanji',\n",
              " 'David Alaba',\n",
              " 'Joachim Andersen',\n",
              " 'Ronald Araujo',\n",
              " 'Alessandro Bastoni',\n",
              " 'Sven Botman',\n",
              " 'Trevoh Chalobah',\n",
              " 'Andreas Christensen',\n",
              " 'Danilo',\n",
              " 'Eric Dier',\n",
              " 'Luiz Felipe',\n",
              " 'Wesley Fofana',\n",
              " 'Roger Ibanez',\n",
              " 'Pierre Kalulu',\n",
              " 'Presnel Kimpembe',\n",
              " 'Ibrahima Konate',\n",
              " 'Kalidou Koulibaly',\n",
              " 'Maxence Lacroix',\n",
              " 'Aymeric Laporte',\n",
              " 'Robin Le Normand',\n",
              " 'Matthijs de Ligt',\n",
              " 'Victor Lindelof',\n",
              " 'Harry Maguire',\n",
              " 'Marquinhos',\n",
              " 'Lisandro Martinez',\n",
              " 'Konstantinos Mavropanos',\n",
              " 'Kim Min-jae',\n",
              " 'Tyrone Mings',\n",
              " 'Benjamin Pavard',\n",
              " 'Sergio Ramos',\n",
              " 'Cristian Romero',\n",
              " 'Antonio Rudiger',\n",
              " 'William Saliba',\n",
              " 'Alex Sandro',\n",
              " 'Giorgio Scalvini',\n",
              " 'Fabian Schar',\n",
              " 'Nico Schlotterbeck',\n",
              " 'Thiago Silva',\n",
              " 'Chris Smalling',\n",
              " 'Jonathan Tah',\n",
              " 'Dayot Upamecano',\n",
              " 'Virgil van Dijk',\n",
              " 'Raphael Varane',\n",
              " 'Micky van de Ven',\n",
              " 'Stefan de Vrij',\n",
              " 'Axel Witsel',\n",
              " 'Leny Yoro',\n",
              " 'Kurt Zouma',\n",
              " 'Karim Adeyemi',\n",
              " 'Antony',\n",
              " 'Harvey Barnes',\n",
              " 'Sofiane Boufal',\n",
              " 'Jarrod Bowen',\n",
              " 'Julian Brandt',\n",
              " 'Tom Cairney',\n",
              " 'Rayan Cherki',\n",
              " 'Federico Chiesa',\n",
              " 'Bruno Fernandes',\n",
              " 'Phil Foden',\n",
              " 'Alejandro Garnacho',\n",
              " 'Anthony Gordon',\n",
              " 'Jack Grealish',\n",
              " 'Son Heung-min',\n",
              " 'Isco',\n",
              " 'Brennan Johnson',\n",
              " 'Diogo Jota',\n",
              " 'Dejan Kulusevski',\n",
              " 'Khvicha Kvaratskhelia',\n",
              " 'Rafael Leao',\n",
              " 'James Maddison',\n",
              " 'Ruslan Malinovskyi',\n",
              " 'Kaoru Mitoma',\n",
              " 'Mason Mount',\n",
              " 'Pedro Neto',\n",
              " 'Raphinha',\n",
              " 'Richarlison',\n",
              " 'Rodrigo',\n",
              " 'Rodrygo',\n",
              " 'Bukayo Saka',\n",
              " 'Mohamed Salah',\n",
              " 'Jadon Sancho',\n",
              " 'Dominik Szoboszlai',\n",
              " 'Leandro Trossard',\n",
              " 'Nico Williams',\n",
              " 'Florian Wirtz',\n",
              " 'Nicolo Zaniolo',\n",
              " 'Hakim Ziyech',\n",
              " 'Julian Alvarez',\n",
              " 'Folarin Balogun',\n",
              " 'Patrick Bamford',\n",
              " 'Christoph Baumgartner',\n",
              " 'Andrea Belotti',\n",
              " 'Karim Benzema',\n",
              " 'Ante Budimir',\n",
              " 'Dominic Calvert-Lewin',\n",
              " 'Edinson Cavani',\n",
              " 'Matheus Cunha',\n",
              " 'Arnaut Danjuma',\n",
              " 'Gerard Deulofeu',\n",
              " 'Angel Di Maria',\n",
              " 'Kasper Dolberg',\n",
              " 'Youssef En-Nesyri',\n",
              " 'Joao Felix',\n",
              " 'Evan Ferguson',\n",
              " 'Niclas Fullkrug',\n",
              " 'Cody Gakpo',\n",
              " 'Antoine Griezmann',\n",
              " 'Erling Haaland',\n",
              " 'Kai Havertz',\n",
              " 'Hwang Hee-chan',\n",
              " 'Philipp Hofmann',\n",
              " 'Rasmus Hojlund',\n",
              " 'Gabriel Jesus',\n",
              " 'Raul Jimenez',\n",
              " 'Joselu',\n",
              " 'Harry Kane',\n",
              " 'Randal Kolo Muani',\n",
              " 'Robert Lewandowski',\n",
              " 'Romelu Lukaku',\n",
              " 'Lautaro Marti\\xadnez',\n",
              " 'Jean-Philippe Mateta',\n",
              " 'Eric Maxim Choupo-Moting',\n",
              " 'Kylian Mbappe',\n",
              " 'Lionel Messi',\n",
              " 'Alvaro Morata',\n",
              " 'Gerard Moreno',\n",
              " 'Christopher Nkunku',\n",
              " 'Victor Osimhen',\n",
              " 'Mikel Oyarzabal',\n",
              " 'Giacomo Raspadori',\n",
              " 'Rodrigo',\n",
              " 'Cristiano Ronaldo',\n",
              " 'Gianluca Scamacca',\n",
              " 'Patrik Schick',\n",
              " 'Jamie Vardy',\n",
              " 'DuÅ¡an VlahoviÄ‡',\n",
              " 'Timo Werner',\n",
              " 'Jordi Alba',\n",
              " 'Trent Alexander-Arnold',\n",
              " 'Serge Aurier',\n",
              " 'Alejandro Balde',\n",
              " 'Joao Cancelo',\n",
              " 'Yannick Carrasco',\n",
              " 'Dani Carvajal',\n",
              " 'Matty Cash',\n",
              " 'Ben Chilwell',\n",
              " 'Yan Couto',\n",
              " 'Aaron Cresswell',\n",
              " 'Juan Cuadrado',\n",
              " 'Marc Cucurella',\n",
              " 'Diogo Dalot',\n",
              " 'Alphonso Davies',\n",
              " 'Mattia De Sciglio',\n",
              " 'Giovanni Di Lorenzo',\n",
              " 'Federico Dimarco',\n",
              " 'Emerson',\n",
              " 'Juan Foyth',\n",
              " 'Raphael Guerreiro',\n",
              " 'Malo Gusto',\n",
              " 'Theo Hernandez',\n",
              " 'Reece James',\n",
              " 'Arnau Martinez',\n",
              " 'Maximilian Mittelstadt',\n",
              " 'Nordi Mukiele',\n",
              " 'Nacho',\n",
              " 'Luca Pellegrini',\n",
              " 'Pedro Porro',\n",
              " 'David Raum',\n",
              " 'Sergi Roberto',\n",
              " 'Andrew Robertson',\n",
              " 'Julian Ryerson',\n",
              " 'Ryan Sessegnon',\n",
              " 'Luke Shaw',\n",
              " 'Mohamed Simakan',\n",
              " 'Borna Sosa',\n",
              " 'Nuno Tavares',\n",
              " 'Alex Telles',\n",
              " 'Kieran Tierney',\n",
              " 'Takehiro Tomiyasu',\n",
              " 'Oleksandr Zinchenko',\n",
              " 'Tyler Adams',\n",
              " 'Luis Alberto',\n",
              " 'Rodrigo Bentancur',\n",
              " 'Hakan Calhanoglu',\n",
              " 'Maxence Caqueret',\n",
              " 'Casemiro',\n",
              " 'Dani Ceballos',\n",
              " 'Mikkel Damsgaard',\n",
              " 'Kevin De Bruyne',\n",
              " 'Rodrigo De Paul',\n",
              " 'Kiernan Dewsbury-Hall',\n",
              " 'Wataru Endo',\n",
              " 'Enzo FernÃ¡ndez',\n",
              " 'Conor Gallagher',\n",
              " 'Bruno Guimaraes',\n",
              " 'Pierre Hojbjerg',\n",
              " 'Frenkie de Jong',\n",
              " 'Daichi Kamada',\n",
              " \"N'Golo Kante\",\n",
              " 'Joshua Kimmich',\n",
              " 'Toni Kroos',\n",
              " 'Douglas Luiz',\n",
              " 'Sergej Milinkovic-Savic',\n",
              " 'Matheus Nunes',\n",
              " 'Joao Palhinha',\n",
              " 'Pedri',\n",
              " 'Marco Reus',\n",
              " 'Declan Rice',\n",
              " 'Rodri',\n",
              " 'Bernardo Silva',\n",
              " 'Youri Tielemans',\n",
              " 'Sandro Tonali',\n",
              " 'James Ward-Prowse',\n",
              " 'Julian Weigl',\n",
              " 'Martin Odegaard']"
            ]
          },
          "execution_count": 15,
          "metadata": {},
          "output_type": "execute_result"
        }
      ],
      "source": [
        "names"
      ]
    },
    {
      "cell_type": "code",
      "execution_count": 16,
      "metadata": {},
      "outputs": [],
      "source": [
        "import time"
      ]
    },
    {
      "cell_type": "code",
      "execution_count": 17,
      "metadata": {},
      "outputs": [],
      "source": [
        "from tqdm import tqdm"
      ]
    },
    {
      "cell_type": "code",
      "execution_count": 56,
      "metadata": {},
      "outputs": [],
      "source": [
        "data_dict={\n",
        "    'Name':[],\n",
        "    'Height':[],\n",
        "    'Weight':[],\n",
        "    'Club':[],\n",
        "    'Nation':[],\n",
        "    'Non-Penalty Goals':[],\n",
        "    'npxG: Non-Penalty xG':[],\n",
        "    'Shots Total':[],\n",
        "    'Assists':[],\n",
        "    'xAG: Exp. Assisted Goals':[],\n",
        "    'npxG + xAG':[],\n",
        "    'Shot-Creating Actions':[],\n",
        "    'Passes Attempted':[],\n",
        "    'Pass Completion %':[],\n",
        "    'Progressive Passes':[],\n",
        "    'Progressive Carries':[],\n",
        "    'Successful Take-Ons':[],\n",
        "    'Touches (Att Pen)':[],\n",
        "    'Progressive Passes Rec':[],\n",
        "    'Tackles':[],\n",
        "    'Interceptions':[],\n",
        "    'Blocks':[],\n",
        "    'Clearances':[],\n",
        "    'Aerials Won':[]\n",
        "}"
      ]
    },
    {
      "cell_type": "code",
      "execution_count": 57,
      "metadata": {},
      "outputs": [
        {
          "name": "stderr",
          "output_type": "stream",
          "text": [
            " 10%|█         | 5/50 [00:38<05:44,  7.65s/it]"
          ]
        },
        {
          "name": "stdout",
          "output_type": "stream",
          "text": [
            "https://fbref.com/en/players/ccce7025/Sven-Botman 'NoneType' object has no attribute 'find_next_sibling'\n"
          ]
        },
        {
          "name": "stderr",
          "output_type": "stream",
          "text": [
            " 12%|█▏        | 6/50 [00:46<05:34,  7.60s/it]"
          ]
        },
        {
          "name": "stdout",
          "output_type": "stream",
          "text": [
            "https://fbref.com/en/players/5515376c/Trevoh-Chalobah 'NoneType' object has no attribute 'find_next_sibling'\n"
          ]
        },
        {
          "name": "stderr",
          "output_type": "stream",
          "text": [
            " 20%|██        | 10/50 [01:17<05:14,  7.87s/it]"
          ]
        },
        {
          "name": "stdout",
          "output_type": "stream",
          "text": [
            "https://fbref.com/en/players/15d0c248/Luiz-Felipe 'NoneType' object has no attribute 'find'\n"
          ]
        },
        {
          "name": "stderr",
          "output_type": "stream",
          "text": [
            " 22%|██▏       | 11/50 [01:25<05:03,  7.77s/it]"
          ]
        },
        {
          "name": "stdout",
          "output_type": "stream",
          "text": [
            "https://fbref.com/en/players/132a82f1/Wesley-Fofana 'NoneType' object has no attribute 'find'\n"
          ]
        },
        {
          "name": "stderr",
          "output_type": "stream",
          "text": [
            " 24%|██▍       | 12/50 [01:32<04:52,  7.70s/it]"
          ]
        },
        {
          "name": "stdout",
          "output_type": "stream",
          "text": [
            "https://fbref.com/en/players/82efe6fa/Roger-Ibanez 'NoneType' object has no attribute 'find'\n"
          ]
        },
        {
          "name": "stderr",
          "output_type": "stream",
          "text": [
            " 26%|██▌       | 13/50 [01:40<04:46,  7.75s/it]"
          ]
        },
        {
          "name": "stdout",
          "output_type": "stream",
          "text": [
            "https://fbref.com/en/players/85f7d1be/Pierre-Kalulu 'NoneType' object has no attribute 'find_next_sibling'\n"
          ]
        },
        {
          "name": "stderr",
          "output_type": "stream",
          "text": [
            " 28%|██▊       | 14/50 [01:48<04:40,  7.78s/it]"
          ]
        },
        {
          "name": "stdout",
          "output_type": "stream",
          "text": [
            "https://fbref.com/en/players/aef6e670/Presnel-Kimpembe 'NoneType' object has no attribute 'find'\n"
          ]
        },
        {
          "name": "stderr",
          "output_type": "stream",
          "text": [
            " 32%|███▏      | 16/50 [02:03<04:18,  7.60s/it]"
          ]
        },
        {
          "name": "stdout",
          "output_type": "stream",
          "text": [
            "https://fbref.com/en/players/da974c7b/Kalidou-Koulibaly 'NoneType' object has no attribute 'find'\n"
          ]
        },
        {
          "name": "stderr",
          "output_type": "stream",
          "text": [
            " 34%|███▍      | 17/50 [02:10<04:13,  7.67s/it]"
          ]
        },
        {
          "name": "stdout",
          "output_type": "stream",
          "text": [
            "https://fbref.com/en/players/277c49ed/Maxence-Lacroix 'NoneType' object has no attribute 'find_next_sibling'\n"
          ]
        },
        {
          "name": "stderr",
          "output_type": "stream",
          "text": [
            " 36%|███▌      | 18/50 [02:18<04:01,  7.56s/it]"
          ]
        },
        {
          "name": "stdout",
          "output_type": "stream",
          "text": [
            "https://fbref.com/en/players/119b9a8e/Aymeric-Laporte 'NoneType' object has no attribute 'find'\n"
          ]
        },
        {
          "name": "stderr",
          "output_type": "stream",
          "text": [
            " 54%|█████▍    | 27/50 [03:28<02:57,  7.72s/it]"
          ]
        },
        {
          "name": "stdout",
          "output_type": "stream",
          "text": [
            "https://fbref.com/en/players/8397a50c/Tyrone-Mings 'NoneType' object has no attribute 'find'\n"
          ]
        },
        {
          "name": "stderr",
          "output_type": "stream",
          "text": [
            " 58%|█████▊    | 29/50 [03:46<02:55,  8.34s/it]"
          ]
        },
        {
          "name": "stdout",
          "output_type": "stream",
          "text": [
            "https://fbref.com/en/players/08511d65/Sergio-Ramos 'NoneType' object has no attribute 'find_next_sibling'\n"
          ]
        },
        {
          "name": "stderr",
          "output_type": "stream",
          "text": [
            " 76%|███████▌  | 38/50 [04:58<01:35,  7.94s/it]"
          ]
        },
        {
          "name": "stdout",
          "output_type": "stream",
          "text": [
            "https://fbref.com/en/players/b6964eb6/Chris-Smalling 'NoneType' object has no attribute 'find'\n"
          ]
        },
        {
          "name": "stderr",
          "output_type": "stream",
          "text": [
            " 92%|█████████▏| 46/50 [06:02<00:32,  8.09s/it]"
          ]
        },
        {
          "name": "stdout",
          "output_type": "stream",
          "text": [
            "https://fbref.com/en/players/6763f716/Leny-Yoro 'NoneType' object has no attribute 'find_next_sibling'\n"
          ]
        },
        {
          "name": "stderr",
          "output_type": "stream",
          "text": [
            "100%|██████████| 50/50 [06:34<00:00,  7.90s/it]\n"
          ]
        }
      ],
      "source": [
        "for name in tqdm(names[0:50]):\n",
        "    getPlayerData(linkGen(name))\n",
        "    time.sleep(6)"
      ]
    },
    {
      "cell_type": "code",
      "execution_count": 58,
      "metadata": {},
      "outputs": [
        {
          "name": "stderr",
          "output_type": "stream",
          "text": [
            "  2%|▏         | 1/50 [00:07<06:02,  7.40s/it]"
          ]
        },
        {
          "name": "stdout",
          "output_type": "stream",
          "text": [
            "https://fbref.com/en/players/b0c71810/Sofiane-Boufal 'NoneType' object has no attribute 'find'\n"
          ]
        },
        {
          "name": "stderr",
          "output_type": "stream",
          "text": [
            " 10%|█         | 5/50 [00:38<05:49,  7.76s/it]"
          ]
        },
        {
          "name": "stdout",
          "output_type": "stream",
          "text": [
            "https://fbref.com/en/players/b34c63a5/Rayan-Cherki 'NoneType' object has no attribute 'find_next_sibling'\n"
          ]
        },
        {
          "name": "stderr",
          "output_type": "stream",
          "text": [
            " 52%|█████▏    | 26/50 [03:34<03:34,  8.93s/it]"
          ]
        },
        {
          "name": "stdout",
          "output_type": "stream",
          "text": [
            "https://fbref.com/en/players/1fb1c435/Rodrigo 'NoneType' object has no attribute 'find'\n"
          ]
        },
        {
          "name": "stderr",
          "output_type": "stream",
          "text": [
            " 72%|███████▏  | 36/50 [04:57<01:51,  7.99s/it]"
          ]
        },
        {
          "name": "stdout",
          "output_type": "stream",
          "text": [
            "https://fbref.com/en/players/6622454d/Hakim-Ziyech 'NoneType' object has no attribute 'find'\n"
          ]
        },
        {
          "name": "stderr",
          "output_type": "stream",
          "text": [
            " 84%|████████▍ | 42/50 [05:44<01:01,  7.73s/it]"
          ]
        },
        {
          "name": "stdout",
          "output_type": "stream",
          "text": [
            "https://fbref.com/en/players/70d74ece/Karim-Benzema 'NoneType' object has no attribute 'find'\n"
          ]
        },
        {
          "name": "stderr",
          "output_type": "stream",
          "text": [
            " 96%|█████████▌| 48/50 [06:30<00:15,  7.74s/it]"
          ]
        },
        {
          "name": "stdout",
          "output_type": "stream",
          "text": [
            "https://fbref.com/en/players/39583cfd/Gerard-Deulofeu 'NoneType' object has no attribute 'find'\n"
          ]
        },
        {
          "name": "stderr",
          "output_type": "stream",
          "text": [
            "100%|██████████| 50/50 [06:46<00:00,  8.13s/it]\n"
          ]
        }
      ],
      "source": [
        "for name in tqdm(names[50:100]):\n",
        "    getPlayerData(linkGen(name))\n",
        "    time.sleep(6)"
      ]
    },
    {
      "cell_type": "code",
      "execution_count": 64,
      "metadata": {},
      "outputs": [
        {
          "name": "stderr",
          "output_type": "stream",
          "text": [
            " 21%|██▏       | 3/14 [00:28<01:39,  9.02s/it]"
          ]
        },
        {
          "name": "stdout",
          "output_type": "stream",
          "text": [
            "https://fbref.com/en/players/5c2b4f07/Serge-Aurier 'NoneType' object has no attribute 'find_next_sibling'\n"
          ]
        },
        {
          "name": "stderr",
          "output_type": "stream",
          "text": [
            " 43%|████▎     | 6/14 [00:54<01:10,  8.80s/it]"
          ]
        },
        {
          "name": "stdout",
          "output_type": "stream",
          "text": [
            "https://fbref.com/en/players/de39485a/Yannick-Carrasco 'NoneType' object has no attribute 'find'\n"
          ]
        },
        {
          "name": "stderr",
          "output_type": "stream",
          "text": [
            " 86%|████████▌ | 12/14 [01:49<00:18,  9.18s/it]"
          ]
        },
        {
          "name": "stdout",
          "output_type": "stream",
          "text": [
            "https://fbref.com/en/players/0ab1f153/Juan-Cuadrado 'NoneType' object has no attribute 'find'\n"
          ]
        },
        {
          "name": "stderr",
          "output_type": "stream",
          "text": [
            "100%|██████████| 14/14 [02:08<00:00,  9.18s/it]\n"
          ]
        }
      ],
      "source": [
        "for name in tqdm(names[136:150]):\n",
        "    getPlayerData(linkGen(name))\n",
        "    time.sleep(6)"
      ]
    },
    {
      "cell_type": "code",
      "execution_count": 65,
      "metadata": {},
      "outputs": [
        {
          "name": "stderr",
          "output_type": "stream",
          "text": [
            "  4%|▍         | 2/50 [00:18<07:14,  9.06s/it]"
          ]
        },
        {
          "name": "stdout",
          "output_type": "stream",
          "text": [
            "https://fbref.com/en/players/ae4e2852/Mattia-De-Sciglio 'NoneType' object has no attribute 'find'\n"
          ]
        },
        {
          "name": "stderr",
          "output_type": "stream",
          "text": [
            " 20%|██        | 10/50 [01:36<06:21,  9.55s/it]"
          ]
        },
        {
          "name": "stdout",
          "output_type": "stream",
          "text": [
            "https://fbref.com/en/players/1265a93a/Reece-James 'NoneType' object has no attribute 'find'\n"
          ]
        },
        {
          "name": "stderr",
          "output_type": "stream",
          "text": [
            " 22%|██▏       | 11/50 [01:46<06:15,  9.62s/it]"
          ]
        },
        {
          "name": "stdout",
          "output_type": "stream",
          "text": [
            "https://fbref.com/en/players/c3e66ffe/Arnau-Martinez 'NoneType' object has no attribute 'find_next_sibling'\n"
          ]
        },
        {
          "name": "stderr",
          "output_type": "stream",
          "text": [
            " 24%|██▍       | 12/50 [01:56<06:05,  9.61s/it]"
          ]
        },
        {
          "name": "stdout",
          "output_type": "stream",
          "text": [
            "https://fbref.com/tiny/gK0XP 'NoneType' object has no attribute 'find'\n"
          ]
        },
        {
          "name": "stderr",
          "output_type": "stream",
          "text": [
            " 42%|████▏     | 21/50 [03:25<04:49,  9.97s/it]"
          ]
        },
        {
          "name": "stdout",
          "output_type": "stream",
          "text": [
            "https://fbref.com/en/players/6aa3e78b/Ryan-Sessegnon 'NoneType' object has no attribute 'find'\n"
          ]
        },
        {
          "name": "stderr",
          "output_type": "stream",
          "text": [
            " 46%|████▌     | 23/50 [03:45<04:30, 10.02s/it]"
          ]
        },
        {
          "name": "stdout",
          "output_type": "stream",
          "text": [
            "https://fbref.com/en/players/fcb27134/Mohamed-Simakan 'NoneType' object has no attribute 'find_next_sibling'\n"
          ]
        },
        {
          "name": "stderr",
          "output_type": "stream",
          "text": [
            " 50%|█████     | 25/50 [04:04<04:00,  9.63s/it]"
          ]
        },
        {
          "name": "stdout",
          "output_type": "stream",
          "text": [
            "https://fbref.com/en/players/a65c844b/Nuno-Tavares 'NoneType' object has no attribute 'find_next_sibling'\n"
          ]
        },
        {
          "name": "stderr",
          "output_type": "stream",
          "text": [
            " 52%|█████▏    | 26/50 [04:13<03:51,  9.66s/it]"
          ]
        },
        {
          "name": "stdout",
          "output_type": "stream",
          "text": [
            "https://fbref.com/en/players/e73c9bb2/Alex-Telles 'NoneType' object has no attribute 'find'\n"
          ]
        },
        {
          "name": "stderr",
          "output_type": "stream",
          "text": [
            " 60%|██████    | 30/50 [04:54<03:19, 10.00s/it]"
          ]
        },
        {
          "name": "stdout",
          "output_type": "stream",
          "text": [
            "https://fbref.com/en/players/2b09d998/Tyler-Adams 'NoneType' object has no attribute 'find'\n"
          ]
        },
        {
          "name": "stderr",
          "output_type": "stream",
          "text": [
            " 68%|██████▊   | 34/50 [05:33<02:39,  9.95s/it]"
          ]
        },
        {
          "name": "stdout",
          "output_type": "stream",
          "text": [
            "https://fbref.com/en/players/f81ef10d/Maxence-Caqueret 'NoneType' object has no attribute 'find_next_sibling'\n"
          ]
        },
        {
          "name": "stderr",
          "output_type": "stream",
          "text": [
            " 80%|████████  | 40/50 [06:25<01:28,  8.87s/it]"
          ]
        },
        {
          "name": "stdout",
          "output_type": "stream",
          "text": [
            "https://fbref.com/en/players/5c74c0f5/Kiernan-Dewsbury-Hall 'NoneType' object has no attribute 'find_next_sibling'\n"
          ]
        },
        {
          "name": "stderr",
          "output_type": "stream",
          "text": [
            " 96%|█████████▌| 48/50 [07:34<00:17,  8.66s/it]"
          ]
        },
        {
          "name": "stdout",
          "output_type": "stream",
          "text": [
            "https://fbref.com/en/players/b9fbae28/NGolo-Kante 'NoneType' object has no attribute 'find'\n"
          ]
        },
        {
          "name": "stderr",
          "output_type": "stream",
          "text": [
            "100%|██████████| 50/50 [07:51<00:00,  9.43s/it]\n"
          ]
        }
      ],
      "source": [
        "for name in tqdm(names[150:200]):\n",
        "    getPlayerData(linkGen(name))\n",
        "    time.sleep(6)"
      ]
    },
    {
      "cell_type": "code",
      "execution_count": 67,
      "metadata": {},
      "outputs": [
        {
          "name": "stderr",
          "output_type": "stream",
          "text": [
            "  0%|          | 0/15 [00:00<?, ?it/s]"
          ]
        },
        {
          "name": "stdout",
          "output_type": "stream",
          "text": [
            "https://fbref.com/en/players/6ce1f46f/Toni-Kroos 'NoneType' object has no attribute 'find_next_sibling'\n"
          ]
        },
        {
          "name": "stderr",
          "output_type": "stream",
          "text": [
            " 13%|█▎        | 2/15 [00:17<01:54,  8.78s/it]"
          ]
        },
        {
          "name": "stdout",
          "output_type": "stream",
          "text": [
            "https://fbref.com/en/players/4e6dbac4/Sergej-Milinkovic-Savic 'NoneType' object has no attribute 'find'\n"
          ]
        },
        {
          "name": "stderr",
          "output_type": "stream",
          "text": [
            " 73%|███████▎  | 11/15 [01:48<00:43, 10.81s/it]"
          ]
        },
        {
          "name": "stdout",
          "output_type": "stream",
          "text": [
            "https://fbref.com/en/players/0db169ae/Sandro-Tonali 'NoneType' object has no attribute 'find'\n"
          ]
        },
        {
          "name": "stderr",
          "output_type": "stream",
          "text": [
            "100%|██████████| 15/15 [02:25<00:00,  9.67s/it]\n"
          ]
        }
      ],
      "source": [
        "for name in tqdm(names[200:]):\n",
        "    getPlayerData(linkGen(name))\n",
        "    time.sleep(6)"
      ]
    },
    {
      "cell_type": "code",
      "execution_count": 68,
      "metadata": {},
      "outputs": [
        {
          "data": {
            "text/plain": [
              "171"
            ]
          },
          "execution_count": 68,
          "metadata": {},
          "output_type": "execute_result"
        }
      ],
      "source": [
        "len(data_dict['Name'])"
      ]
    },
    {
      "cell_type": "code",
      "execution_count": 69,
      "metadata": {},
      "outputs": [
        {
          "data": {
            "text/plain": [
              "'https://fbref.com/en/players/89ac64a6/Manuel-Akanji'"
            ]
          },
          "execution_count": 69,
          "metadata": {},
          "output_type": "execute_result"
        }
      ],
      "source": [
        "linkGen('Manuel Akanji')"
      ]
    },
    {
      "cell_type": "code",
      "execution_count": 33,
      "metadata": {},
      "outputs": [
        {
          "data": {
            "text/plain": [
              "[]"
            ]
          },
          "execution_count": 33,
          "metadata": {},
          "output_type": "execute_result"
        }
      ],
      "source": [
        "getPlayerData(linkGen('Harry Kane'))"
      ]
    },
    {
      "cell_type": "code",
      "execution_count": 70,
      "metadata": {},
      "outputs": [],
      "source": [
        "NewName=[\n",
        "    'Marc Guehi',\n",
        "    'Pau Cubarsi',\n",
        "    'Radu Dragusin',\n",
        "    'Riccardo Calafiori',\n",
        "    'Jean-Clair Todibo',\n",
        "    'Mario Hermoso',\n",
        "    'Niklas Sule',\n",
        "    'Pau Torres',\n",
        "    'Robin Le Normand',\n",
        "    'Eric Dier',\n",
        "    'Arda Guler',\n",
        "    'Jeremy Doku',\n",
        "    'Jamal Musiala',\n",
        "    'Michael Olise',\n",
        "    'Miguel Gutierrez',\n",
        "    'Jack Clarke',\n",
        "    'Dominic Solanke',\n",
        "    'Archie Gray',\n",
        "    'Kai Havertz',\n",
        "    'Cole Palmer',\n",
        "    'Rico Lwewis'\n",
        "]"
      ]
    },
    {
      "cell_type": "code",
      "execution_count": 71,
      "metadata": {},
      "outputs": [
        {
          "name": "stderr",
          "output_type": "stream",
          "text": [
            " 24%|██▍       | 5/21 [00:44<02:20,  8.78s/it]"
          ]
        },
        {
          "name": "stdout",
          "output_type": "stream",
          "text": [
            "https://fbref.com/en/players/555f3a0b/Mario-Hermoso 'NoneType' object has no attribute 'find_next_sibling'\n"
          ]
        },
        {
          "name": "stderr",
          "output_type": "stream",
          "text": [
            " 67%|██████▋   | 14/21 [01:59<00:59,  8.46s/it]"
          ]
        },
        {
          "name": "stdout",
          "output_type": "stream",
          "text": [
            "https://fbref.com/en/players/7e98cff1/Miguel-Gutierrez 'NoneType' object has no attribute 'find_next_sibling'\n"
          ]
        },
        {
          "name": "stderr",
          "output_type": "stream",
          "text": [
            " 71%|███████▏  | 15/21 [02:07<00:49,  8.28s/it]"
          ]
        },
        {
          "name": "stdout",
          "output_type": "stream",
          "text": [
            "https://fbref.com/en/players/e16932d8/Jack-Clarke 'NoneType' object has no attribute 'find_next_sibling'\n"
          ]
        },
        {
          "name": "stderr",
          "output_type": "stream",
          "text": [
            " 81%|████████  | 17/21 [02:24<00:34,  8.55s/it]"
          ]
        },
        {
          "name": "stdout",
          "output_type": "stream",
          "text": [
            "https://fbref.com/en/players/f58515f5/Archie-Gray 'NoneType' object has no attribute 'find_next_sibling'\n"
          ]
        },
        {
          "name": "stderr",
          "output_type": "stream",
          "text": [
            "100%|██████████| 21/21 [03:00<00:00,  8.59s/it]\n"
          ]
        }
      ],
      "source": [
        "for name in tqdm(NewName):\n",
        "    getPlayerData(linkGen(name))\n",
        "    time.sleep(6)"
      ]
    },
    {
      "cell_type": "markdown",
      "metadata": {},
      "source": []
    },
    {
      "cell_type": "code",
      "execution_count": null,
      "metadata": {},
      "outputs": [],
      "source": [
        "Missed =[\n",
        "    'Sven Botman',\n",
        "    'Rayan Cherki',\n",
        "    'Leny Yoro',\n",
        "    'Jean-Philippe Mateta',\n",
        "    'Kiernan Dewsbury-Hall',\n",
        "    'Miguel Gutierrez',\n",
        "    'Jack Clarke',\n",
        "    'Archie Gray',\n",
        "    \n",
        "]"
      ]
    },
    {
      "cell_type": "code",
      "execution_count": null,
      "metadata": {},
      "outputs": [],
      "source": [
        "def get_current_value(url):\n",
        "    # Send a request to the provided URL\n",
        "    headers = {\n",
        "        'User-Agent': 'Mozilla/5.0 (Windows NT 10.0; Win64; x64) AppleWebKit/537.36 (KHTML, like Gecko) Chrome/58.0.3029.110 Safari/537.3'}\n",
        "    \n",
        "    # Send a request to the provided URL with headers\n",
        "    response = requests.get(url, headers=headers)\n",
        "    # Check if the request was successful\n",
        "    if response.status_code == 200:\n",
        "        # Parse the HTML content\n",
        "        soup = BeautifulSoup(response.text, 'html.parser')\n",
        "        \n",
        "        # Find the meta tag with the name 'description'\n",
        "        meta_tag = soup.find('meta', attrs={'name': 'description'})\n",
        "        \n",
        "        if meta_tag:\n",
        "            # Extract the content attribute\n",
        "            content = meta_tag.get('content', '')\n",
        "            \n",
        "            # Use regex to find the value in the format ₹ followed by a number and 'Cr'\n",
        "            # market_value = re.search(r'₹[0-9]+(?:\\.[0-9]+)?\\s*Cr', content)\n",
        "            market_value = re.search(r'₹([0-9]+(?:\\.[0-9]+)?)\\s*Cr', content)\n",
        "            if market_value:\n",
        "                # return market_value.group()\n",
        "                # Extract the numeric part using group(1)\n",
        "                numeric_value = market_value.group(1)\n",
        "                \n",
        "                try:\n",
        "                    return int(numeric_value)*108041.60/1000000\n",
        "                    #Value in M Euros\n",
        "                except:\n",
        "                    return \"Not Int\"\n",
        "            else:\n",
        "                return \"Market value not found in meta tag\"\n",
        "        else:\n",
        "            return \"Meta tag not found\"\n",
        "    else:\n",
        "        return f\"Failed to retrieve page, status code: {response.status_code}\""
      ]
    },
    {
      "cell_type": "code",
      "execution_count": 77,
      "metadata": {},
      "outputs": [],
      "source": [
        "market_values=[]"
      ]
    },
    {
      "cell_type": "code",
      "execution_count": 80,
      "metadata": {},
      "outputs": [
        {
          "name": "stderr",
          "output_type": "stream",
          "text": [
            "100%|██████████| 88/88 [10:24<00:00,  7.10s/it]\n"
          ]
        }
      ],
      "source": [
        "for name in tqdm(data_dict['Name'][100:]):\n",
        "    market_values.append(get_current_value(linkGenTf(name)))\n",
        "    time.sleep(5)"
      ]
    },
    {
      "cell_type": "code",
      "execution_count": 81,
      "metadata": {},
      "outputs": [
        {
          "data": {
            "text/plain": [
              "188"
            ]
          },
          "execution_count": 81,
          "metadata": {},
          "output_type": "execute_result"
        }
      ],
      "source": [
        "len(market_values)"
      ]
    },
    {
      "cell_type": "code",
      "execution_count": 82,
      "metadata": {},
      "outputs": [
        {
          "data": {
            "text/plain": [
              "188"
            ]
          },
          "execution_count": 82,
          "metadata": {},
          "output_type": "execute_result"
        }
      ],
      "source": [
        "len(data_dict['Name'])"
      ]
    },
    {
      "cell_type": "code",
      "execution_count": 83,
      "metadata": {},
      "outputs": [],
      "source": [
        "data_dict['Market Value in M Euros'] = market_values"
      ]
    },
    {
      "cell_type": "code",
      "execution_count": 85,
      "metadata": {},
      "outputs": [],
      "source": [
        "df=pd.DataFrame.from_dict(data_dict)"
      ]
    },
    {
      "cell_type": "code",
      "execution_count": 86,
      "metadata": {},
      "outputs": [
        {
          "data": {
            "text/html": [
              "<div>\n",
              "<style scoped>\n",
              "    .dataframe tbody tr th:only-of-type {\n",
              "        vertical-align: middle;\n",
              "    }\n",
              "\n",
              "    .dataframe tbody tr th {\n",
              "        vertical-align: top;\n",
              "    }\n",
              "\n",
              "    .dataframe thead th {\n",
              "        text-align: right;\n",
              "    }\n",
              "</style>\n",
              "<table border=\"1\" class=\"dataframe\">\n",
              "  <thead>\n",
              "    <tr style=\"text-align: right;\">\n",
              "      <th></th>\n",
              "      <th>Name</th>\n",
              "      <th>Height</th>\n",
              "      <th>Weight</th>\n",
              "      <th>Club</th>\n",
              "      <th>Nation</th>\n",
              "      <th>Non-Penalty Goals</th>\n",
              "      <th>npxG: Non-Penalty xG</th>\n",
              "      <th>Shots Total</th>\n",
              "      <th>Assists</th>\n",
              "      <th>xAG: Exp. Assisted Goals</th>\n",
              "      <th>...</th>\n",
              "      <th>Progressive Carries</th>\n",
              "      <th>Successful Take-Ons</th>\n",
              "      <th>Touches (Att Pen)</th>\n",
              "      <th>Progressive Passes Rec</th>\n",
              "      <th>Tackles</th>\n",
              "      <th>Interceptions</th>\n",
              "      <th>Blocks</th>\n",
              "      <th>Clearances</th>\n",
              "      <th>Aerials Won</th>\n",
              "      <th>Market Value in M Euros</th>\n",
              "    </tr>\n",
              "  </thead>\n",
              "  <tbody>\n",
              "    <tr>\n",
              "      <th>0</th>\n",
              "      <td>Manuel Akanji</td>\n",
              "      <td>187cm</td>\n",
              "      <td>84kg</td>\n",
              "      <td>Manchester City</td>\n",
              "      <td>Switzerland</td>\n",
              "      <td>90</td>\n",
              "      <td>87</td>\n",
              "      <td>58</td>\n",
              "      <td>28</td>\n",
              "      <td>61</td>\n",
              "      <td>...</td>\n",
              "      <td>98</td>\n",
              "      <td>27</td>\n",
              "      <td>70</td>\n",
              "      <td>95</td>\n",
              "      <td>48</td>\n",
              "      <td>8</td>\n",
              "      <td>9</td>\n",
              "      <td>3</td>\n",
              "      <td>3</td>\n",
              "      <td>38.894976</td>\n",
              "    </tr>\n",
              "    <tr>\n",
              "      <th>1</th>\n",
              "      <td>David Alaba</td>\n",
              "      <td>180cm</td>\n",
              "      <td>72kg</td>\n",
              "      <td>Real Madrid</td>\n",
              "      <td>Austria</td>\n",
              "      <td>19</td>\n",
              "      <td>94</td>\n",
              "      <td>99</td>\n",
              "      <td>94</td>\n",
              "      <td>93</td>\n",
              "      <td>...</td>\n",
              "      <td>48</td>\n",
              "      <td>27</td>\n",
              "      <td>86</td>\n",
              "      <td>93</td>\n",
              "      <td>10</td>\n",
              "      <td>54</td>\n",
              "      <td>1</td>\n",
              "      <td>7</td>\n",
              "      <td>4</td>\n",
              "      <td>17.286656</td>\n",
              "    </tr>\n",
              "    <tr>\n",
              "      <th>2</th>\n",
              "      <td>Joachim Andersen</td>\n",
              "      <td>190cm</td>\n",
              "      <td>74kg</td>\n",
              "      <td>Fulham</td>\n",
              "      <td>Denmark</td>\n",
              "      <td>40</td>\n",
              "      <td>51</td>\n",
              "      <td>59</td>\n",
              "      <td>94</td>\n",
              "      <td>98</td>\n",
              "      <td>...</td>\n",
              "      <td>31</td>\n",
              "      <td>72</td>\n",
              "      <td>71</td>\n",
              "      <td>54</td>\n",
              "      <td>47</td>\n",
              "      <td>47</td>\n",
              "      <td>5</td>\n",
              "      <td>92</td>\n",
              "      <td>60</td>\n",
              "      <td>30.251648</td>\n",
              "    </tr>\n",
              "    <tr>\n",
              "      <th>3</th>\n",
              "      <td>Ronald Araújo</td>\n",
              "      <td>188cm</td>\n",
              "      <td>78kg</td>\n",
              "      <td>Barcelona</td>\n",
              "      <td>Uruguay</td>\n",
              "      <td>50</td>\n",
              "      <td>95</td>\n",
              "      <td>95</td>\n",
              "      <td>90</td>\n",
              "      <td>86</td>\n",
              "      <td>...</td>\n",
              "      <td>68</td>\n",
              "      <td>82</td>\n",
              "      <td>93</td>\n",
              "      <td>49</td>\n",
              "      <td>38</td>\n",
              "      <td>9</td>\n",
              "      <td>39</td>\n",
              "      <td>14</td>\n",
              "      <td>72</td>\n",
              "      <td>Market value not found in meta tag</td>\n",
              "    </tr>\n",
              "    <tr>\n",
              "      <th>4</th>\n",
              "      <td>Alessandro Bastoni</td>\n",
              "      <td>190cm</td>\n",
              "      <td>83kg</td>\n",
              "      <td>Internazionale</td>\n",
              "      <td>Italy</td>\n",
              "      <td>46</td>\n",
              "      <td>61</td>\n",
              "      <td>56</td>\n",
              "      <td>96</td>\n",
              "      <td>99</td>\n",
              "      <td>...</td>\n",
              "      <td>99</td>\n",
              "      <td>87</td>\n",
              "      <td>85</td>\n",
              "      <td>99</td>\n",
              "      <td>48</td>\n",
              "      <td>30</td>\n",
              "      <td>15</td>\n",
              "      <td>1</td>\n",
              "      <td>21</td>\n",
              "      <td>Market value not found in meta tag</td>\n",
              "    </tr>\n",
              "    <tr>\n",
              "      <th>...</th>\n",
              "      <td>...</td>\n",
              "      <td>...</td>\n",
              "      <td>...</td>\n",
              "      <td>...</td>\n",
              "      <td>...</td>\n",
              "      <td>...</td>\n",
              "      <td>...</td>\n",
              "      <td>...</td>\n",
              "      <td>...</td>\n",
              "      <td>...</td>\n",
              "      <td>...</td>\n",
              "      <td>...</td>\n",
              "      <td>...</td>\n",
              "      <td>...</td>\n",
              "      <td>...</td>\n",
              "      <td>...</td>\n",
              "      <td>...</td>\n",
              "      <td>...</td>\n",
              "      <td>...</td>\n",
              "      <td>...</td>\n",
              "      <td>...</td>\n",
              "    </tr>\n",
              "    <tr>\n",
              "      <th>183</th>\n",
              "      <td>Michael Olise</td>\n",
              "      <td>178cm</td>\n",
              "      <td>68kg</td>\n",
              "      <td>Bayern Munich</td>\n",
              "      <td>France</td>\n",
              "      <td>99</td>\n",
              "      <td>84</td>\n",
              "      <td>97</td>\n",
              "      <td>91</td>\n",
              "      <td>99</td>\n",
              "      <td>...</td>\n",
              "      <td>77</td>\n",
              "      <td>84</td>\n",
              "      <td>74</td>\n",
              "      <td>73</td>\n",
              "      <td>64</td>\n",
              "      <td>85</td>\n",
              "      <td>92</td>\n",
              "      <td>66</td>\n",
              "      <td>54</td>\n",
              "      <td>47.538304</td>\n",
              "    </tr>\n",
              "    <tr>\n",
              "      <th>184</th>\n",
              "      <td>Dominic Solanke</td>\n",
              "      <td>187cm</td>\n",
              "      <td>74kg</td>\n",
              "      <td>Tottenham Hotspur</td>\n",
              "      <td>England</td>\n",
              "      <td>65</td>\n",
              "      <td>73</td>\n",
              "      <td>67</td>\n",
              "      <td>25</td>\n",
              "      <td>25</td>\n",
              "      <td>...</td>\n",
              "      <td>57</td>\n",
              "      <td>78</td>\n",
              "      <td>79</td>\n",
              "      <td>29</td>\n",
              "      <td>55</td>\n",
              "      <td>46</td>\n",
              "      <td>60</td>\n",
              "      <td>80</td>\n",
              "      <td>73</td>\n",
              "      <td>34.573312</td>\n",
              "    </tr>\n",
              "    <tr>\n",
              "      <th>185</th>\n",
              "      <td>Kai Havertz</td>\n",
              "      <td>186cm</td>\n",
              "      <td>77kg</td>\n",
              "      <td>Arsenal</td>\n",
              "      <td>Germany</td>\n",
              "      <td>99</td>\n",
              "      <td>99</td>\n",
              "      <td>94</td>\n",
              "      <td>89</td>\n",
              "      <td>79</td>\n",
              "      <td>...</td>\n",
              "      <td>71</td>\n",
              "      <td>43</td>\n",
              "      <td>99</td>\n",
              "      <td>97</td>\n",
              "      <td>7</td>\n",
              "      <td>17</td>\n",
              "      <td>25</td>\n",
              "      <td>19</td>\n",
              "      <td>99</td>\n",
              "      <td>60.503296</td>\n",
              "    </tr>\n",
              "    <tr>\n",
              "      <th>186</th>\n",
              "      <td>Cole Palmer</td>\n",
              "      <td>189cm</td>\n",
              "      <td>73kg</td>\n",
              "      <td>Chelsea</td>\n",
              "      <td>England</td>\n",
              "      <td>92</td>\n",
              "      <td>93</td>\n",
              "      <td>94</td>\n",
              "      <td>99</td>\n",
              "      <td>99</td>\n",
              "      <td>...</td>\n",
              "      <td>63</td>\n",
              "      <td>55</td>\n",
              "      <td>54</td>\n",
              "      <td>30</td>\n",
              "      <td>9</td>\n",
              "      <td>85</td>\n",
              "      <td>19</td>\n",
              "      <td>41</td>\n",
              "      <td>1</td>\n",
              "      <td>69.146624</td>\n",
              "    </tr>\n",
              "    <tr>\n",
              "      <th>187</th>\n",
              "      <td>Rico Lewis</td>\n",
              "      <td>170cm</td>\n",
              "      <td>64kg</td>\n",
              "      <td>Manchester City</td>\n",
              "      <td>England</td>\n",
              "      <td>74</td>\n",
              "      <td>76</td>\n",
              "      <td>24</td>\n",
              "      <td>93</td>\n",
              "      <td>72</td>\n",
              "      <td>...</td>\n",
              "      <td>89</td>\n",
              "      <td>48</td>\n",
              "      <td>97</td>\n",
              "      <td>95</td>\n",
              "      <td>13</td>\n",
              "      <td>10</td>\n",
              "      <td>31</td>\n",
              "      <td>44</td>\n",
              "      <td>1</td>\n",
              "      <td>32.844646</td>\n",
              "    </tr>\n",
              "  </tbody>\n",
              "</table>\n",
              "<p>188 rows × 25 columns</p>\n",
              "</div>"
            ],
            "text/plain": [
              "                   Name Height Weight               Club       Nation  \\\n",
              "0         Manuel Akanji  187cm   84kg    Manchester City  Switzerland   \n",
              "1           David Alaba  180cm   72kg        Real Madrid      Austria   \n",
              "2      Joachim Andersen  190cm   74kg             Fulham      Denmark   \n",
              "3         Ronald Araújo  188cm   78kg          Barcelona      Uruguay   \n",
              "4    Alessandro Bastoni  190cm   83kg     Internazionale        Italy   \n",
              "..                  ...    ...    ...                ...          ...   \n",
              "183       Michael Olise  178cm   68kg      Bayern Munich       France   \n",
              "184     Dominic Solanke  187cm   74kg  Tottenham Hotspur      England   \n",
              "185         Kai Havertz  186cm   77kg            Arsenal      Germany   \n",
              "186         Cole Palmer  189cm   73kg            Chelsea      England   \n",
              "187          Rico Lewis  170cm   64kg    Manchester City      England   \n",
              "\n",
              "     Non-Penalty Goals  npxG: Non-Penalty xG  Shots Total  Assists  \\\n",
              "0                   90                    87           58       28   \n",
              "1                   19                    94           99       94   \n",
              "2                   40                    51           59       94   \n",
              "3                   50                    95           95       90   \n",
              "4                   46                    61           56       96   \n",
              "..                 ...                   ...          ...      ...   \n",
              "183                 99                    84           97       91   \n",
              "184                 65                    73           67       25   \n",
              "185                 99                    99           94       89   \n",
              "186                 92                    93           94       99   \n",
              "187                 74                    76           24       93   \n",
              "\n",
              "     xAG: Exp. Assisted Goals  ...  Progressive Carries  Successful Take-Ons  \\\n",
              "0                          61  ...                   98                   27   \n",
              "1                          93  ...                   48                   27   \n",
              "2                          98  ...                   31                   72   \n",
              "3                          86  ...                   68                   82   \n",
              "4                          99  ...                   99                   87   \n",
              "..                        ...  ...                  ...                  ...   \n",
              "183                        99  ...                   77                   84   \n",
              "184                        25  ...                   57                   78   \n",
              "185                        79  ...                   71                   43   \n",
              "186                        99  ...                   63                   55   \n",
              "187                        72  ...                   89                   48   \n",
              "\n",
              "     Touches (Att Pen)  Progressive Passes Rec  Tackles  Interceptions  \\\n",
              "0                   70                      95       48              8   \n",
              "1                   86                      93       10             54   \n",
              "2                   71                      54       47             47   \n",
              "3                   93                      49       38              9   \n",
              "4                   85                      99       48             30   \n",
              "..                 ...                     ...      ...            ...   \n",
              "183                 74                      73       64             85   \n",
              "184                 79                      29       55             46   \n",
              "185                 99                      97        7             17   \n",
              "186                 54                      30        9             85   \n",
              "187                 97                      95       13             10   \n",
              "\n",
              "     Blocks  Clearances  Aerials Won             Market Value in M Euros  \n",
              "0         9           3            3                           38.894976  \n",
              "1         1           7            4                           17.286656  \n",
              "2         5          92           60                           30.251648  \n",
              "3        39          14           72  Market value not found in meta tag  \n",
              "4        15           1           21  Market value not found in meta tag  \n",
              "..      ...         ...          ...                                 ...  \n",
              "183      92          66           54                           47.538304  \n",
              "184      60          80           73                           34.573312  \n",
              "185      25          19           99                           60.503296  \n",
              "186      19          41            1                           69.146624  \n",
              "187      31          44            1                           32.844646  \n",
              "\n",
              "[188 rows x 25 columns]"
            ]
          },
          "execution_count": 86,
          "metadata": {},
          "output_type": "execute_result"
        }
      ],
      "source": [
        "df"
      ]
    },
    {
      "cell_type": "code",
      "execution_count": 87,
      "metadata": {},
      "outputs": [],
      "source": [
        "df.to_csv('Data.csv')"
      ]
    },
    {
      "cell_type": "code",
      "execution_count": 5,
      "metadata": {},
      "outputs": [
        {
          "name": "stdout",
          "output_type": "stream",
          "text": [
            "Premier League\n"
          ]
        }
      ],
      "source": [
        "import difflib\n",
        "\n",
        "def find_most_similar_key(name, data):\n",
        "    keys = list(data.keys())\n",
        "    closest_match = difflib.get_close_matches(name, keys, n=1, cutoff=0.6)\n",
        "    if closest_match:\n",
        "        return data[closest_match[0]]\n",
        "    return None\n",
        "\n",
        "# Example dictionary\n",
        "teams_leagues = {\n",
        "    \"Manchester City\": \"Premier League\",\n",
        "    \"Real Madrid\": \"La Liga\",\n",
        "    \"Fulham\": \"Premier League\",\n",
        "    \"Barcelona\": \"La Liga\",\n",
        "    \"Internazionale\": \"Serie A\",\n",
        "    \"Juventus\": \"Serie A\",\n",
        "    \"Bayern Munich\": \"Bundesliga\",\n",
        "    \"Liverpool\": \"Premier League\",\n",
        "    \"Atlético Madrid\": \"La Liga\",\n",
        "    \"Manchester United\": \"Premier League\",\n",
        "    \"Paris Saint-Germain\": \"Ligue 1\",\n",
        "    \"West Ham United\": \"Premier League\",\n",
        "    \"Tottenham Hotspur\": \"Premier League\",\n",
        "    \"Arsenal\": \"Premier League\",\n",
        "    \"Flamengo\": \"Série A\",\n",
        "    \"Atalanta\": \"Serie A\",\n",
        "    \"Newcastle United\": \"Premier League\",\n",
        "    \"Dortmund\": \"Bundesliga\",\n",
        "    \"Fluminense\": \"Série A\",\n",
        "    \"Leverkusen\": \"Bundesliga\",\n",
        "    \"Como\": \"Serie B\",\n",
        "    \"Al Oruba\": \"Omani League\",\n",
        "    \"Real Betis\": \"La Liga\",\n",
        "    \"Napoli\": \"Serie A\",\n",
        "    \"Milan\": \"Serie A\",\n",
        "    \"Genoa\": \"Serie B\",\n",
        "    \"Brighton & Hove Albion\": \"Premier League\",\n",
        "    \"Chelsea\": \"Premier League\",\n",
        "    \"Athletic Club\": \"La Liga\",\n",
        "    \"Monaco\": \"Ligue 1\",\n",
        "    \"Leeds United\": \"Championship\",\n",
        "    \"RB Leipzig\": \"Bundesliga\",\n",
        "    \"Osasuna\": \"La Liga\",\n",
        "    \"Everton\": \"Premier League\",\n",
        "    \"Boca Juniors\": \"Primera División\",\n",
        "    \"Wolverhampton Wanderers\": \"Premier League\",\n",
        "    \"Girona\": \"La Liga\",\n",
        "    \"Benfica\": \"Primeira Liga\",\n",
        "    \"Anderlecht\": \"Pro League\",\n",
        "    \"Fenerbahçe\": \"Süper Lig\",\n",
        "    \"Al Gharrafa\": \"Qatari Stars League\",\n",
        "    \"Inter Miami\": \"MLS\",\n",
        "    \"Villarreal\": \"La Liga\",\n",
        "    \"Galatasaray\": \"Süper Lig\",\n",
        "    \"Real Sociedad\": \"La Liga\",\n",
        "    \"Al-Hilal\": \"Saudi Pro League\",\n",
        "    \"Aston Villa\": \"Premier League\",\n",
        "    \"Lazio\": \"Serie A\",\n",
        "    \"Al Qadisiyah\": \"Saudi Pro League\",\n",
        "    \"Mönchengladbach\": \"Bundesliga\",\n",
        "    \"Brentford\": \"Premier League\",\n",
        "    \"Marseille\": \"Ligue 1\",\n",
        "    \"Crystal Palace\": \"Premier League\",\n",
        "    \"Nottingham Forest\": \"Premier League\"\n",
        "}\n",
        "\n",
        "# Example usage\n",
        "name = \"tottenham\"  # Example input\n",
        "league = find_most_similar_key(name, teams_leagues)\n",
        "print(league)  # This will print the league of the most similar team name\n"
      ]
    },
    {
      "cell_type": "code",
      "execution_count": 7,
      "metadata": {},
      "outputs": [],
      "source": [
        "import pandas as pd"
      ]
    },
    {
      "cell_type": "code",
      "execution_count": 8,
      "metadata": {},
      "outputs": [],
      "source": [
        "df=pd.read_csv('Data.csv')"
      ]
    },
    {
      "cell_type": "code",
      "execution_count": 9,
      "metadata": {},
      "outputs": [],
      "source": [
        "LeagueName=[]"
      ]
    },
    {
      "cell_type": "code",
      "execution_count": null,
      "metadata": {},
      "outputs": [],
      "source": [
        "for name in df['Club']:\n",
        "    print(league)"
      ]
    }
  ],
  "metadata": {
    "colab": {
      "provenance": []
    },
    "kernelspec": {
      "display_name": "Python 3",
      "name": "python3"
    },
    "language_info": {
      "codemirror_mode": {
        "name": "ipython",
        "version": 3
      },
      "file_extension": ".py",
      "mimetype": "text/x-python",
      "name": "python",
      "nbconvert_exporter": "python",
      "pygments_lexer": "ipython3",
      "version": "3.11.2"
    }
  },
  "nbformat": 4,
  "nbformat_minor": 0
}
